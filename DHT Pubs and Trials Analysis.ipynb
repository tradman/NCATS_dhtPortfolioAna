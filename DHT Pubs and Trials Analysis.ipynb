{
 "cells": [
  {
   "cell_type": "markdown",
   "id": "694acef7-ff6e-4b6d-b3e3-d7d5bde9095e",
   "metadata": {},
   "source": [
    "# Digital Health Publications and Clinical Trials Analysis Scripts\n",
    "## For any questions, please contact the corresponding author of the publication\n",
    "==============================================================================================\n",
    "\n",
    "### Files needed to be placed in the datapath folder specified below include:\n",
    "- Manually created file of all NIH publications per year.\n",
    "    - filename labeled here as: allNih-publications-Summary.xlsx.  Ths is in the github folder.\n",
    "    - this was created using the iSearch Publications Module Facets view and copying and pasting the # of publications displayed per year.\n",
    "    - note: any year can have more publications added at any time as more publications are attributed to grants and loaded into Pubmed\n",
    "- Publications portfolios  (2 files) downloaded from iSearch Publications Module: https://itools.od.nih.gov/isearch/publications/\n",
    "    - filename labeled here as: DHT8-iSearch_-_Publications-export_2024-05-29-10-56-18.xlsx (this one is all DHT pubs across HHS)\n",
    "        - link to search here: https://itools.od.nih.gov/isearch/publications/#search:searchId=66570bdd0f1080302be7a9ae [NIH access only] (note, this will have different N's as the search is updated.  To get the exact data request the excel or access the the iSearch Portfolio)\n",
    "        - note, we say all HHS because most publications do not have a grant cited\n",
    "    - filename labeled here as: allTR-iSearch_-_Publications-export_2024-05-29-14-05-53.xlsx (this is only NCATS aka \"TR\" publications)\n",
    "- Clinical Trials portfolios  (2 files) downloaded from iSearch Clinical Trials Module: https://itools.od.nih.gov/isearch/clinical/\n",
    "    - filename labeled here as: allNIH-iSearch_-_Clinical_Trials-export_2024-05-29-11-20-19.xlsx (this is all clinical trials)\n",
    "    - filename labeled here as: DHT8-iSearch_-_Clinical_Trials-export_2024-05-29-11-18-20.xlsx (this is all clin trials matching DHT search terms)\n",
    "        - link to search: https://itools.od.nih.gov/isearch/clinical/#search:searchId=66b354270f1080302be8d219 (see publications note above) "
   ]
  },
  {
   "cell_type": "markdown",
   "id": "c15fb4f7-1b02-4687-b107-1b6f28c97c14",
   "metadata": {},
   "source": [
    "### Search Terms: \"decentralized trial\",  \"remote trial\", \"virtual trial\", \"digital health\", \"digital health technology\", \"digital health technologies\", \"mobile app\", \"mobile application\", \"mobile health\", \"mobile health technology\", \"mobile health technologies\", mhealth, \"smart connected health\", \"remote patient monitoring\", \"connected home health\", \"wearable device\", wearable, accelerometer, accelerometry, actigraph, actigraphy, \"remote healthcare delivery\", \"virtual care\", \"digital patient engagement\", telehealth, telemedicine. "
   ]
  },
  {
   "cell_type": "code",
   "execution_count": null,
   "id": "1339dcce-5f73-430b-bd9e-0d5c95f281a3",
   "metadata": {},
   "outputs": [],
   "source": []
  },
  {
   "cell_type": "code",
   "execution_count": 1,
   "id": "d041157c-f870-4442-aef9-6dfe55615f02",
   "metadata": {},
   "outputs": [
    {
     "name": "stdout",
     "output_type": "stream",
     "text": [
      "[WinError 183] Cannot create a file when that file already exists: 'C:\\\\Users\\\\radmantc\\\\\\\\OneDrive - National Institutes of Health\\\\\\\\Digital Health Portfolio Analysis\\\\Outputs To Share\\\\Pubs And Trials\\\\\\\\..\\\\'\n",
      "[WinError 183] Cannot create a file when that file already exists: 'C:\\\\Users\\\\radmantc\\\\\\\\OneDrive - National Institutes of Health\\\\\\\\Digital Health Portfolio Analysis\\\\Outputs To Share\\\\Pubs And Trials\\\\'\n"
     ]
    }
   ],
   "source": [
    "datapath='C:\\\\Users\\\\radmantc\\\\Documents\\\\Digital Health Portfolio Analysis\\\\MasterData\\\\'#source data downloaded from iSearch\n",
    "\n",
    "outpath='C:\\\\Users\\\\radmantc\\\\\\OneDrive - National Institutes of Health\\\\\\Digital Health Portfolio Analysis\\\\Outputs To Share\\\\Pubs And Trials\\\\'\n",
    "\n",
    "import os\n",
    "try:\n",
    "    os.mkdir(outpath + '\\\\..\\\\')\n",
    "except OSError as error:\n",
    "    print(error) \n",
    "try:\n",
    "    os.mkdir(outpath)\n",
    "except OSError as error:\n",
    "    print(error)  \n",
    "    \n",
    "import pandas as pd\n",
    "import numpy as np\n",
    "import matplotlib.pyplot as plt"
   ]
  },
  {
   "cell_type": "code",
   "execution_count": 2,
   "id": "09bd78f4-b5e5-40ab-8af4-810b471a2416",
   "metadata": {},
   "outputs": [
    {
     "data": {
      "text/html": [
       "<div>\n",
       "<style scoped>\n",
       "    .dataframe tbody tr th:only-of-type {\n",
       "        vertical-align: middle;\n",
       "    }\n",
       "\n",
       "    .dataframe tbody tr th {\n",
       "        vertical-align: top;\n",
       "    }\n",
       "\n",
       "    .dataframe thead th {\n",
       "        text-align: right;\n",
       "    }\n",
       "</style>\n",
       "<table border=\"1\" class=\"dataframe\">\n",
       "  <thead>\n",
       "    <tr style=\"text-align: right;\">\n",
       "      <th></th>\n",
       "      <th>year</th>\n",
       "      <th>pubs</th>\n",
       "    </tr>\n",
       "  </thead>\n",
       "  <tbody>\n",
       "    <tr>\n",
       "      <th>0</th>\n",
       "      <td>2023</td>\n",
       "      <td>1535864</td>\n",
       "    </tr>\n",
       "    <tr>\n",
       "      <th>1</th>\n",
       "      <td>2022</td>\n",
       "      <td>1578145</td>\n",
       "    </tr>\n",
       "    <tr>\n",
       "      <th>2</th>\n",
       "      <td>2021</td>\n",
       "      <td>1557876</td>\n",
       "    </tr>\n",
       "    <tr>\n",
       "      <th>3</th>\n",
       "      <td>2020</td>\n",
       "      <td>1404604</td>\n",
       "    </tr>\n",
       "    <tr>\n",
       "      <th>4</th>\n",
       "      <td>2019</td>\n",
       "      <td>1228318</td>\n",
       "    </tr>\n",
       "    <tr>\n",
       "      <th>5</th>\n",
       "      <td>2018</td>\n",
       "      <td>1173100</td>\n",
       "    </tr>\n",
       "    <tr>\n",
       "      <th>6</th>\n",
       "      <td>2017</td>\n",
       "      <td>1128044</td>\n",
       "    </tr>\n",
       "    <tr>\n",
       "      <th>7</th>\n",
       "      <td>2016</td>\n",
       "      <td>1116475</td>\n",
       "    </tr>\n",
       "    <tr>\n",
       "      <th>8</th>\n",
       "      <td>2015</td>\n",
       "      <td>1091958</td>\n",
       "    </tr>\n",
       "  </tbody>\n",
       "</table>\n",
       "</div>"
      ],
      "text/plain": [
       "   year     pubs\n",
       "0  2023  1535864\n",
       "1  2022  1578145\n",
       "2  2021  1557876\n",
       "3  2020  1404604\n",
       "4  2019  1228318\n",
       "5  2018  1173100\n",
       "6  2017  1128044\n",
       "7  2016  1116475\n",
       "8  2015  1091958"
      ]
     },
     "execution_count": 2,
     "metadata": {},
     "output_type": "execute_result"
    }
   ],
   "source": [
    "df_allPub = pd.read_excel(datapath + 'allNih-publications-Summary.xlsx') \n",
    "df_allPub"
   ]
  },
  {
   "cell_type": "code",
   "execution_count": 3,
   "id": "0146cbba-557c-4b35-a6a0-eaad1ab8cb65",
   "metadata": {},
   "outputs": [
    {
     "name": "stderr",
     "output_type": "stream",
     "text": [
      "C:\\Users\\radmantc\\AppData\\Local\\anaconda3\\Lib\\site-packages\\openpyxl\\styles\\stylesheet.py:226: UserWarning: Workbook contains no default style, apply openpyxl's default\n",
      "  warn(\"Workbook contains no default style, apply openpyxl's default\")\n"
     ]
    }
   ],
   "source": [
    "#load iSearch/publications search of same terms USED FOR GRANTS SEARCH...THESE ARE THE DHT PUBS ACROSS ALL NIH:\n",
    "df_iPub = pd.read_excel(datapath + 'DHT8-iSearch_-_Publications-export_2024-05-29-10-56-18.xlsx')"
   ]
  },
  {
   "cell_type": "code",
   "execution_count": null,
   "id": "dffe2004-ae65-44d5-94ec-860386edf8a2",
   "metadata": {},
   "outputs": [],
   "source": [
    "#same as above, but only for NCATS publications\n",
    "df_allPubTR = pd.read_excel(datapath + 'allTR-iSearch_-_Publications-export_2024-05-29-14-05-53.xlsx')"
   ]
  },
  {
   "cell_type": "code",
   "execution_count": null,
   "id": "9b480387-4544-4109-b4d5-5a17342b38a4",
   "metadata": {},
   "outputs": [],
   "source": [
    "#remove extra years:\n",
    "endyear=2023\n",
    "df_iPub=df_iPub[(df_iPub['Pub Year']>=2015) & (df_iPub['Pub Year']<=2023) ]\n",
    "df_allPubTR=df_allPubTR[(df_allPubTR['Pub Year']>=2015) & (df_allPubTR['Pub Year']<=2023) ]\n",
    "print('% DHT out of all NIH publications: ' , df_iPub.shape[0]/df_allPub.pubs.sum()*100 )"
   ]
  },
  {
   "cell_type": "markdown",
   "id": "d83c1d31-31d1-4a07-a357-8f19c0662f57",
   "metadata": {},
   "source": [
    "# Supplemental Table 15\r",
    "## \tNumber of Unique Journals from DHT Publication PER Fiscal Year\r\n"
   ]
  },
  {
   "cell_type": "code",
   "execution_count": null,
   "id": "8cbfe137-c99f-4da1-95aa-68ef2fde61f9",
   "metadata": {},
   "outputs": [],
   "source": [
    "#question: are there more publishing opportunities for DHTs per year?\n",
    "print( len(df_iPub['Journal Name'].unique() ) )\n",
    "yrs = np.sort(df_iPub['Pub Year'].unique() )\n",
    "for yr in yrs:\n",
    "    cdf = df_iPub[df_iPub['Pub Year']==yr]\n",
    "    print('Year: ', yr, ', # Unique Journals: ',len(cdf['Journal Name'].unique()),' of ' ,cdf.shape[0] , ' publications')"
   ]
  },
  {
   "cell_type": "markdown",
   "id": "9991a15a-1aa8-412f-990f-a63684c83579",
   "metadata": {},
   "source": [
    "# Figure 4. Total DHT Publications and Clinical Trials from HHS and NCATS from 2015 – 2023 "
   ]
  },
  {
   "cell_type": "markdown",
   "id": "0027b239-4cbf-496d-a8b7-ea8dd1434a3d",
   "metadata": {},
   "source": [
    "## Fig 4, step a) summarize publications data to prepare historgrams"
   ]
  },
  {
   "cell_type": "code",
   "execution_count": null,
   "id": "cd05121c-4234-4591-b102-89026814f591",
   "metadata": {},
   "outputs": [],
   "source": [
    "#flag NCATS/CTSA DH tpublications in the \"allPub\" dataframe\n",
    "pd.options.mode.chained_assignment = None  # default='warn'\n",
    "df_iPub['isTrDHT']=0\n",
    "for i,row in df_iPub.iterrows():\n",
    "    if pd.isna(row['Admin IC']): continue\n",
    "    isNCATS = 'TR' in row['Admin IC']\n",
    "    if isNCATS: \n",
    "        df_iPub['isTrDHT'][i]=1"
   ]
  },
  {
   "cell_type": "code",
   "execution_count": null,
   "id": "6c84447c-f95d-4466-a46e-f44e968fa277",
   "metadata": {},
   "outputs": [],
   "source": [
    "#prepare to plot publications per year\n",
    "df_iPub['isPubDHT']=1 #all pubs in this DF are DHT, this is for summing purposes\n",
    "pubsByYear=df_iPub.groupby(['Pub Year'], as_index=False\n",
    "                                          ).agg({'isPubDHT':'count', 'isTrDHT':'sum' })\n",
    "pubsByYear['Pub Year'] = pubsByYear['Pub Year'].astype('int')"
   ]
  },
  {
   "cell_type": "code",
   "execution_count": null,
   "id": "c64657fb-c3ee-475e-a982-53f41d7f1b47",
   "metadata": {},
   "outputs": [],
   "source": [
    "#plot # NCATS all-type pubs per year\n",
    "df_allPubTR['isPub']=1\n",
    "allTRpubsByYear=df_allPubTR.groupby(['Pub Year'], as_index=False\n",
    "                                          ).agg({'isPub':'sum', 'Grant Number':'count' })\n",
    "allTRpubsByYear['Pub Year'] = allTRpubsByYear['Pub Year'].astype('int')"
   ]
  },
  {
   "cell_type": "code",
   "execution_count": null,
   "id": "1b04259a-600b-41ce-9444-9683119e6da6",
   "metadata": {},
   "outputs": [],
   "source": [
    "pubsByYear['allTrPubs'] = allTRpubsByYear.isPub"
   ]
  },
  {
   "cell_type": "code",
   "execution_count": null,
   "id": "c87a7b97-b74c-4813-b436-b6551dd6cb8e",
   "metadata": {},
   "outputs": [],
   "source": [
    "#this needs to be joined by year column........\n",
    "pubsByYear.sort_values(by='Pub Year',inplace=True)\n",
    "df_allPub.sort_values(by='year',inplace=True)\n",
    "df_allPub.rename(columns={\"year\": \"Pub Year\"},inplace=True)\n",
    "pubsByYear = pd.merge(pubsByYear,df_allPub,on='Pub Year')\n",
    "#pubsByYear.drop(['allTopicPubs'], axis=1, inplace=True)\n",
    "pubsByYear.rename(columns={\"pubs\": \"allTopicPubs\"},inplace=True)"
   ]
  },
  {
   "cell_type": "markdown",
   "id": "1a2d7296-847b-46f3-93db-81ece875aec7",
   "metadata": {},
   "source": [
    "## Supplemental Table 11 and 12: \n",
    "### Columns: Fiscal Year,\tTotal DHT (or all HHS) Publications,\tChange from previous FY,\ty-o-y % change"
   ]
  },
  {
   "cell_type": "code",
   "execution_count": null,
   "id": "581c563a-8d8a-4fa8-b355-78e2a2b1082e",
   "metadata": {},
   "outputs": [],
   "source": [
    "pubsByYear"
   ]
  },
  {
   "cell_type": "code",
   "execution_count": null,
   "id": "ad542e8c-6940-48fe-b465-111275c0c90e",
   "metadata": {},
   "outputs": [],
   "source": [
    "pubsByYear['percent']=pubsByYear.isPubDHT/pubsByYear.allTopicPubs*100\n",
    "pubsByYear['percentTR']=pubsByYear.isTrDHT/pubsByYear.allTrPubs*100\n",
    "pubsByYear"
   ]
  },
  {
   "cell_type": "code",
   "execution_count": null,
   "id": "2c5080fb-70c5-43c8-9bfd-05d3f94307e4",
   "metadata": {},
   "outputs": [],
   "source": [
    "pubsByYear.percentTR.diff().mean()"
   ]
  },
  {
   "cell_type": "code",
   "execution_count": null,
   "id": "4440fb0e-5523-4653-a24e-37ba9fad9ec9",
   "metadata": {},
   "outputs": [],
   "source": []
  },
  {
   "cell_type": "markdown",
   "id": "19da5b27-c6cd-4796-a2fd-335cbfc0341d",
   "metadata": {},
   "source": [
    "## Fig 4, step b)  load trials data and summarize to prepare side by side histogram"
   ]
  },
  {
   "cell_type": "code",
   "execution_count": null,
   "id": "e596c069-8f16-4a0f-a23b-2481af133c20",
   "metadata": {},
   "outputs": [],
   "source": [
    "#load iSearch/publications search of same terms USED FOR GRANTS SEARCH...THESE ARE THE DHT PUBS ACROSS ALL NIH:\n",
    "df_allTrials = pd.read_excel(datapath + 'allNIH-iSearch_-_Clinical_Trials-export_2024-05-29-11-20-19.xlsx') # termSearch-iSearch_-_Publications-export_2023-01-12-20-16-26.xlsx') #<-version also searches aims and adds a few terms"
   ]
  },
  {
   "cell_type": "code",
   "execution_count": null,
   "id": "1274dc63-5464-4c5a-8914-1173331c2613",
   "metadata": {},
   "outputs": [],
   "source": [
    "#extract trial start years\n",
    "df_allTrials['Start Year']=0\n",
    "df_allTrials['isNaN']=0\n",
    "for i,row in df_allTrials.iterrows():\n",
    "    if pd.isna(row['Start Date']): df_allTrials['isNaN'][i]=1; print('found NaN'); continue\n",
    "    df_allTrials['Start Year'][i]=int(row['Start Date'].split('-')[0])"
   ]
  },
  {
   "cell_type": "code",
   "execution_count": null,
   "id": "672ab968-7c21-4b5d-a3b9-99b586bac3ba",
   "metadata": {},
   "outputs": [],
   "source": [
    "#how many trials do not have a start date?\n",
    "df_allTrials['isNaN'].sum()\n",
    "df_allTrials[ df_allTrials['isNaN']==1 ].to_csv(outpath + 'alltrials_noStartDate.csv') #for follow up\n",
    "df_allTrials = df_allTrials[ df_allTrials['isNaN']==0 ] #remove these from further processing"
   ]
  },
  {
   "cell_type": "code",
   "execution_count": null,
   "id": "8873fd0c-3f59-498b-bf14-5c493de6c2ef",
   "metadata": {},
   "outputs": [],
   "source": [
    "#check to constrain to analysis years:\n",
    "df_allTrials=df_allTrials[(df_allTrials['Start Year']>=2015) & (df_allTrials['Start Year']<=endyear) ]"
   ]
  },
  {
   "cell_type": "code",
   "execution_count": null,
   "id": "7a20645f-2d75-4314-a6a5-be13b8685c0c",
   "metadata": {},
   "outputs": [],
   "source": [
    "#get NCATS/CTSA trials\n",
    "df_allTrials['isTR']=0\n",
    "for i,row in df_allTrials.iterrows():\n",
    "    isNCATS = 'TR' in row['Admin IC']\n",
    "    if isNCATS: \n",
    "        df_allTrials['isTR'][i]=1"
   ]
  },
  {
   "cell_type": "markdown",
   "id": "e17ad0b2-e304-48c9-9361-a3d4deffbc52",
   "metadata": {},
   "source": [
    "## Supplemental Table 13: \n",
    "### Columns: Fiscal Year,\tTotal DHT Trials,\tChange from previous FY,\ty-o-y % change"
   ]
  },
  {
   "cell_type": "code",
   "execution_count": null,
   "id": "6cf3c0db-ce1e-4384-8cbc-9f25082d7f45",
   "metadata": {},
   "outputs": [],
   "source": [
    "#plot all trials per year\n",
    "df_allTrials['isTrial']=1\n",
    "alltrialsByYear=df_allTrials.groupby(['Start Year'], as_index=False\n",
    "                                          ).agg({'isTrial':'sum', 'isTR':'sum'})\n",
    "alltrialsByYear"
   ]
  },
  {
   "cell_type": "code",
   "execution_count": null,
   "id": "790fbfac-dc6c-4281-9cad-374ad19f25e2",
   "metadata": {},
   "outputs": [],
   "source": []
  },
  {
   "cell_type": "code",
   "execution_count": null,
   "id": "6c690a1a-b951-42b8-b470-554d9005d51f",
   "metadata": {},
   "outputs": [],
   "source": [
    "df_dhtTrials = pd.read_excel(datapath + 'DHT8-iSearch_-_Clinical_Trials-export_2024-05-29-11-18-20.xlsx') #DHT terms in "
   ]
  },
  {
   "cell_type": "code",
   "execution_count": null,
   "id": "8b7a0564-0e23-4b8f-bcdb-6d4d43c1e0c7",
   "metadata": {},
   "outputs": [],
   "source": [
    "df_dhtTrials['Start Year']=0\n",
    "for i,row in df_dhtTrials.iterrows():\n",
    "    df_dhtTrials['Start Year'][i]=int(row['Start Date'].split('-')[0])\n",
    "    #print(df_dhtTrials['Start Year'][i])"
   ]
  },
  {
   "cell_type": "code",
   "execution_count": null,
   "id": "522eb7ff-3674-4c45-98c9-996f0cadfc93",
   "metadata": {},
   "outputs": [],
   "source": [
    "df_dhtTrials=df_dhtTrials[(df_dhtTrials['Start Year']>=2015) & (df_dhtTrials['Start Year']<=endyear) ]"
   ]
  },
  {
   "cell_type": "code",
   "execution_count": null,
   "id": "87dc7f0d-9232-452a-997c-33e10cc1c2d3",
   "metadata": {},
   "outputs": [],
   "source": [
    "#get NCATS/CTSA DHT trials\n",
    "df_dhtTrials['isTrTrialDHT']=0\n",
    "for i,row in df_dhtTrials.iterrows():\n",
    "    isNCATS = 'TR' in row['Admin IC']\n",
    "    if isNCATS: \n",
    "        df_dhtTrials['isTrTrialDHT'][i]=1"
   ]
  },
  {
   "cell_type": "markdown",
   "id": "6f69c053-a31e-4756-82d6-65c9c4574632",
   "metadata": {},
   "source": [
    "## Supplemental Table 14: \n",
    "### Columns: Fiscal Year,\tTotal HHS Trials,\tChange from previous FY,\ty-o-y % change"
   ]
  },
  {
   "cell_type": "code",
   "execution_count": null,
   "id": "51500ad6-83b3-4229-b623-09fe98d080c0",
   "metadata": {},
   "outputs": [],
   "source": [
    "#plot dht trials per year\n",
    "df_dhtTrials['isTrialDHT']=1\n",
    "trialsByYear=df_dhtTrials.groupby(['Start Year'], as_index=False\n",
    "                                          ).agg({'isTrialDHT':'sum', 'isTrTrialDHT':'sum'})\n",
    "trialsByYear"
   ]
  },
  {
   "cell_type": "code",
   "execution_count": null,
   "id": "83f6ff4c-49a4-4fa6-a5ab-e9ec2932a031",
   "metadata": {},
   "outputs": [],
   "source": [
    "pubsByYear.to_csv(outpath + 'pubsByYear.csv')\n",
    "trialsByYear.to_csv(outpath + 'trialsByYear.csv')"
   ]
  },
  {
   "cell_type": "markdown",
   "id": "2af8efd3-8592-4226-bb01-c40cc4f47a61",
   "metadata": {},
   "source": [
    "## Fig. 4, step c) 4x4 plot with NIH top row, NCATS bottom, pubs on left, trials on right:"
   ]
  },
  {
   "cell_type": "code",
   "execution_count": null,
   "id": "724f57c5-c9dd-4329-9133-f81f29b5d569",
   "metadata": {},
   "outputs": [],
   "source": [
    "#barplot of all-topic DHT pubs Per Year\n",
    "fig, ax = plt.subplots(2,2, figsize=(10, 8))\n",
    "print(len(ax))\n",
    "# Width of a bar \n",
    "width = 0.4 \n",
    "\n",
    "ax2 = ax[0,1] #.twinx()\n",
    "\n",
    "vals=pubsByYear['isPubDHT']\n",
    "x=list(pubsByYear['Pub Year'])[:]\n",
    "bar1 = ax[0,0].bar(x, vals, width = width,color='darkblue')\n",
    "\n",
    "#change y limits to give more room:\n",
    "scale=1.1\n",
    "max_y_lim = max(vals)*scale\n",
    "min_y_lim = 0 # min(vals)\n",
    "ax[0,0].set_ylim(min_y_lim, max_y_lim);\n",
    "#plt.ylim(min_y_lim, max_y_lim)\n",
    "\n",
    "valsTrials = trialsByYear['isTrialDHT']\n",
    "xTrials=list(trialsByYear['Start Year'])[:]\n",
    "bar2 = ax2.bar(xTrials, valsTrials, width = width,color='darkorange')\n",
    "#change y limits to give more room:\n",
    "max_y_lim = max(valsTrials)*scale\n",
    "min_y_lim = 0 # min(valsTrials)\n",
    "#plt.ylim(min_y_lim, max_y_lim)\n",
    "ax2.set_ylim(min_y_lim, max_y_lim);\n",
    "\n",
    "\n",
    "#barerr=2*pubsByYear['isPubDHT']['std'] #1.96*pubsByYear['isPubDHT']['std']/np.sqrt(pubsByYear['Appl ID']['count'])\n",
    "#plt.errorbar(x=x,y=vals,yerr=barerr, fmt ='o',color='darkblue')\n",
    " \n",
    "#plt.xlabel(\"Fiscal Year\")\n",
    "#plt.ylabel(\"DHT Publications, 2015-\"+ str(int(endyear)))\n",
    "ax[0,0].set_ylabel(\"HHS DHT Publications, 2015-\"+ str(int(endyear)),color='darkblue')\n",
    "ax2.set_ylabel(\"HHS DHT Clinical Trials, 2015-\"+ str(int(endyear)),color='darkorange')\n",
    "ax[0,0].set_xlabel(\"Calendar Year\")\n",
    "\n",
    "plt.xticks(rotation=0)\n",
    "plt.xticks(x, x, rotation=0) #The first argument gives the locations to put the ticks (df.index here is equivalent to np.arange(len(df)), but if your index isn't evenly spaced use the arange). The second argument gives the tick labels.\n",
    "ax[0,0].set_xticks(x, x, rotation=0) #The first argument gives the locations to put the ticks (df.index here is equivalent to np.arange(len(df)), but if your index isn't evenly spaced use the arange). The second argument gives the tick labels.\n",
    "ax2.set_xticks(x, x, rotation=0) #The first argument gives the locations to put the ticks (df.index here is equivalent to np.arange(len(df)), but if your index isn't evenly spaced use the arange). The second argument gives the tick labels.\n",
    "ax2.set_xlabel(\"Calendar Year\")\n",
    "\n",
    "#text at top of each bar\n",
    "# Add counts above the two bar graphs\n",
    "fontsz=8\n",
    "valsPerc=pubsByYear['percent']\n",
    "for i, rect in enumerate(bar1):\n",
    "    ctext=valsPerc[i]\n",
    "    print(i,ctext)\n",
    "    ax[0,0].text(rect.get_x() + rect.get_width() / 2.0, rect.get_height(), f'{ctext:.1f}%', ha='center', va='bottom', color='darkblue', fontsize=fontsz)\n",
    "\n",
    "\n",
    "#text at top of each bar\n",
    "# Add counts above the two bar graphs\n",
    "valsTrialsPerc=valsTrials/alltrialsByYear['isTrial']*100\n",
    "for i, rect in enumerate(bar2):\n",
    "    ctext=valsTrialsPerc[i]\n",
    "    print(i,ctext)\n",
    "    ax2.text(rect.get_x() + rect.get_width() / 2.0, rect.get_height(), f'{ctext:.1f}%', ha='center', va='bottom', color = 'darkorange', fontsize=fontsz)\n",
    "\n",
    "    \n",
    "#legend:\n",
    "colors = {'HHS DHT Publications':'darkblue', 'HHS DHT Clinical Trials':'darkorange'}         \n",
    "labels = list(colors.keys())\n",
    "handles = [plt.Rectangle((0,0),1,1, color=colors[label]) for label in labels]\n",
    "#plt.legend(handles, labels)\n",
    "\n",
    "\n",
    "\n",
    "\n",
    "#plot only NCATs\n",
    "vals=pubsByYear['isTrDHT']\n",
    "x=list(pubsByYear['Pub Year'])[:]\n",
    "bar3 = ax[1,0].bar(x, vals, width = width,color='darkblue')\n",
    "max_y_lim = max(vals)*scale\n",
    "min_y_lim = 0 # min(vals)\n",
    "ax[1,0].set_ylim(min_y_lim, max_y_lim);\n",
    "ax[1,0].set_xticks(x, x, rotation=0) #The first argument gives the locations to put the ticks (df.index here is equivalent to np.arange(len(df)), but if your index isn't evenly spaced use the arange). The second argument gives the tick labels.\n",
    "\n",
    "valsTrials = trialsByYear['isTrTrialDHT']\n",
    "xTrials=list(trialsByYear['Start Year'])[:]\n",
    "ax3 = ax[1,1] #.twinx()\n",
    "bar4 = ax3.bar(xTrials, valsTrials, width = width,color='darkorange')\n",
    "max_y_lim = max(valsTrials)*scale\n",
    "min_y_lim = 0 # min(valsTrials)\n",
    "ax3.set_ylim(min_y_lim, max_y_lim);\n",
    "\n",
    "ax[1,0].set_ylabel(\"NCATS DHT Publications, 2015-\"+ str(int(endyear)),color='darkblue')\n",
    "ax3.set_ylabel(\"NCATS DHT Clinical Trials, 2015-\"+ str(int(endyear)),color='darkorange')\n",
    "ax[1,0].set_xlabel(\"Calendar Year\")\n",
    "ax3.set_xlabel(\"Calendar Year\")\n",
    "\n",
    "\n",
    "plt.xticks(rotation=0)\n",
    "plt.xticks(x, x, rotation=0) #The first argument gives the locations to put the ticks (df.index here is equivalent to np.arange(len(df)), but if your index isn't evenly spaced use the arange). The second argument gives the tick labels.\n",
    "\n",
    "#text at top of each bar\n",
    "# Add counts above the two bar graphs\n",
    "fontsz=8\n",
    "valsPerc=pubsByYear['percentTR']\n",
    "for i, rect in enumerate(bar3):\n",
    "    ctext=valsPerc[i]\n",
    "    print(i,ctext)\n",
    "    ax[1,0].text(rect.get_x() + rect.get_width() / 2.0, rect.get_height(), f'{ctext:.1f}%', ha='center', va='bottom', color='darkblue', fontsize=fontsz)\n",
    "\n",
    "\n",
    "#text at top of each bar\n",
    "# Add counts above the two bar graphs\n",
    "valsTrialsPerc=valsTrials/alltrialsByYear['isTR']*100\n",
    "for i, rect in enumerate(bar4):\n",
    "    ctext=valsTrialsPerc[i]\n",
    "    print(i,ctext)\n",
    "    ax3.text(rect.get_x() + rect.get_width() / 2.0, rect.get_height(), f'{ctext:.1f}%', ha='center', va='bottom', color = 'darkorange', fontsize=fontsz)\n",
    "\n",
    "    \n",
    "#legend:\n",
    "colors = {'NCATS DHT Publications':'darkblue', 'NCATS DHT Clinical Trials':'darkorange'}         \n",
    "labels = list(colors.keys())\n",
    "handles = [plt.Rectangle((0,0),1,1, color=colors[label]) for label in labels]\n",
    "#plt.legend(handles, labels)\n",
    "\n",
    "print('/n==========FIGURE 4===========/n')\n",
    "\n",
    "plt.show()\n",
    "fig.figure.savefig(outpath + 'Figure4_mHealthPubsNIH_Bar withTrials_wNCATS_2by2.tiff', dpi=600) #\n",
    "fig.set_rasterized(True) #needed to so gray-shading is not interpreted as black when viewing .eps \n",
    "fig.figure.savefig(outpath + 'Figure4_mHealthPubsNIH_Bar withTrials_wNCATS_2by2.eps', dpi=600,bbox_inches='tight') #Format required: https://jamanetwork.com/journals/jamanetworkopen/pages/instructions-for-authors#SecTableofFigureRequirements"
   ]
  },
  {
   "cell_type": "code",
   "execution_count": null,
   "id": "bb83eeec-0a7f-4e84-a22a-b835ae6403a7",
   "metadata": {},
   "outputs": [],
   "source": []
  },
  {
   "cell_type": "markdown",
   "id": "dcad464a-dcc8-4b32-98ff-b175b035aedb",
   "metadata": {},
   "source": [
    "# Supplemental Figure 3. DHT Publications from CTSAs from 2015 – 2023 \r\n"
   ]
  },
  {
   "cell_type": "code",
   "execution_count": 29,
   "id": "e86139ab-d151-4bbb-8c9b-45f52ce4b685",
   "metadata": {},
   "outputs": [],
   "source": [
    "#flag NCATS/CTSA DH tpublications in the \"allPub\" dataframe\n",
    "pd.options.mode.chained_assignment = None  # default='warn'\n",
    "df_allPubTR['isCtsa']=0\n",
    "for i,row in df_allPubTR.iterrows():\n",
    "    if pd.isna(row['Grant Number']): continue\n",
    "    isCTSA = ('UL1TR' in row['Grant Number']) or ('U01TR' in row['Grant Number']) \n",
    "    if isCTSA: \n",
    "        df_allPubTR['isCtsa'][i]=1"
   ]
  },
  {
   "cell_type": "code",
   "execution_count": 33,
   "id": "5c5b8b79-5b86-4b9d-8447-e587ff4bc8df",
   "metadata": {},
   "outputs": [],
   "source": [
    "#flag NCATS/CTSA DH tpublications in the \"allPub\" dataframe\n",
    "pd.options.mode.chained_assignment = None  # default='warn'\n",
    "df_iPub['isCtsaDHT']=0\n",
    "for i,row in df_iPub.iterrows():\n",
    "    if pd.isna(row['Grant Number']): continue\n",
    "    isCTSA = ('UL1TR' in row['Grant Number']) or ('U01TR' in row['Grant Number']) \n",
    "    if isCTSA: \n",
    "        df_iPub['isCtsaDHT'][i]=1"
   ]
  },
  {
   "cell_type": "code",
   "execution_count": 35,
   "id": "ede0c6e9-45aa-4794-b167-58d48f5be1cb",
   "metadata": {},
   "outputs": [
    {
     "name": "stdout",
     "output_type": "stream",
     "text": [
      "% DHT out of all CTSA publications:  2.039097119645495\n"
     ]
    }
   ],
   "source": [
    "print('% DHT out of all CTSA publications: ' , df_iPub.isCtsaDHT.sum()/df_allPubTR.isCtsa.sum()*100 )"
   ]
  },
  {
   "cell_type": "code",
   "execution_count": 36,
   "id": "0d0086b5-5366-4da0-9629-be8d6c3d78e2",
   "metadata": {},
   "outputs": [],
   "source": [
    "pubsByYearCtsaDht=df_iPub.groupby(['Pub Year'], as_index=False\n",
    "                                          ).agg({ 'isCtsaDHT':'sum' })\n",
    "pubsByYearCtsaDht['Pub Year'] = pubsByYearCtsaDht['Pub Year'].astype('int')"
   ]
  },
  {
   "cell_type": "code",
   "execution_count": 37,
   "id": "bf429e6a-071a-4542-a2e7-ac9de72eba8f",
   "metadata": {},
   "outputs": [
    {
     "data": {
      "text/html": [
       "<div>\n",
       "<style scoped>\n",
       "    .dataframe tbody tr th:only-of-type {\n",
       "        vertical-align: middle;\n",
       "    }\n",
       "\n",
       "    .dataframe tbody tr th {\n",
       "        vertical-align: top;\n",
       "    }\n",
       "\n",
       "    .dataframe thead th {\n",
       "        text-align: right;\n",
       "    }\n",
       "</style>\n",
       "<table border=\"1\" class=\"dataframe\">\n",
       "  <thead>\n",
       "    <tr style=\"text-align: right;\">\n",
       "      <th></th>\n",
       "      <th>Pub Year</th>\n",
       "      <th>isCtsaDHT</th>\n",
       "    </tr>\n",
       "  </thead>\n",
       "  <tbody>\n",
       "    <tr>\n",
       "      <th>0</th>\n",
       "      <td>2015</td>\n",
       "      <td>109</td>\n",
       "    </tr>\n",
       "    <tr>\n",
       "      <th>1</th>\n",
       "      <td>2016</td>\n",
       "      <td>97</td>\n",
       "    </tr>\n",
       "    <tr>\n",
       "      <th>2</th>\n",
       "      <td>2017</td>\n",
       "      <td>114</td>\n",
       "    </tr>\n",
       "    <tr>\n",
       "      <th>3</th>\n",
       "      <td>2018</td>\n",
       "      <td>131</td>\n",
       "    </tr>\n",
       "    <tr>\n",
       "      <th>4</th>\n",
       "      <td>2019</td>\n",
       "      <td>156</td>\n",
       "    </tr>\n",
       "    <tr>\n",
       "      <th>5</th>\n",
       "      <td>2020</td>\n",
       "      <td>259</td>\n",
       "    </tr>\n",
       "    <tr>\n",
       "      <th>6</th>\n",
       "      <td>2021</td>\n",
       "      <td>303</td>\n",
       "    </tr>\n",
       "    <tr>\n",
       "      <th>7</th>\n",
       "      <td>2022</td>\n",
       "      <td>282</td>\n",
       "    </tr>\n",
       "    <tr>\n",
       "      <th>8</th>\n",
       "      <td>2023</td>\n",
       "      <td>316</td>\n",
       "    </tr>\n",
       "  </tbody>\n",
       "</table>\n",
       "</div>"
      ],
      "text/plain": [
       "   Pub Year  isCtsaDHT\n",
       "0      2015        109\n",
       "1      2016         97\n",
       "2      2017        114\n",
       "3      2018        131\n",
       "4      2019        156\n",
       "5      2020        259\n",
       "6      2021        303\n",
       "7      2022        282\n",
       "8      2023        316"
      ]
     },
     "execution_count": 37,
     "metadata": {},
     "output_type": "execute_result"
    }
   ],
   "source": [
    "pubsByYearCtsaDht"
   ]
  },
  {
   "cell_type": "code",
   "execution_count": 31,
   "id": "cb913d54-92f5-46f3-88c8-8bfafc6234f6",
   "metadata": {},
   "outputs": [],
   "source": [
    "pubsByYearCtsa=df_allPubTR.groupby(['Pub Year'], as_index=False\n",
    "                                          ).agg({'isCtsa':'sum' })\n",
    "pubsByYearCtsa['Pub Year'] = pubsByYearCtsa['Pub Year'].astype('int')"
   ]
  },
  {
   "cell_type": "code",
   "execution_count": 38,
   "id": "039622be-fc5c-4fd5-b92c-6dca2460449a",
   "metadata": {},
   "outputs": [],
   "source": [
    "#this needs to be joined by year column........\n",
    "pubsByYearCtsa = pd.merge(pubsByYearCtsa,pubsByYearCtsaDht,on='Pub Year')\n",
    "#pubsByYear.drop(['allTopicPubs'], axis=1, inplace=True)\n",
    "#pubsByYear.rename(columns={\"pubs\": \"allTopicPubs\"},inplace=True)"
   ]
  },
  {
   "cell_type": "code",
   "execution_count": 40,
   "id": "870ef9d7-51c7-4b0c-a8f9-0140ebb0a838",
   "metadata": {},
   "outputs": [],
   "source": [
    "#get percentages:\n",
    "pubsByYearCtsa['percentDhtPubs'] = pubsByYearCtsa['isCtsaDHT'] / pubsByYearCtsa['isCtsa'] *100"
   ]
  },
  {
   "cell_type": "code",
   "execution_count": 41,
   "id": "ac549958-e1ce-4b32-9b8d-af29a18b103b",
   "metadata": {},
   "outputs": [
    {
     "data": {
      "text/html": [
       "<div>\n",
       "<style scoped>\n",
       "    .dataframe tbody tr th:only-of-type {\n",
       "        vertical-align: middle;\n",
       "    }\n",
       "\n",
       "    .dataframe tbody tr th {\n",
       "        vertical-align: top;\n",
       "    }\n",
       "\n",
       "    .dataframe thead th {\n",
       "        text-align: right;\n",
       "    }\n",
       "</style>\n",
       "<table border=\"1\" class=\"dataframe\">\n",
       "  <thead>\n",
       "    <tr style=\"text-align: right;\">\n",
       "      <th></th>\n",
       "      <th>Pub Year</th>\n",
       "      <th>isCtsa</th>\n",
       "      <th>isCtsaDHT</th>\n",
       "      <th>percentDhtPubs</th>\n",
       "    </tr>\n",
       "  </thead>\n",
       "  <tbody>\n",
       "    <tr>\n",
       "      <th>0</th>\n",
       "      <td>2015</td>\n",
       "      <td>9189</td>\n",
       "      <td>109</td>\n",
       "      <td>1.186201</td>\n",
       "    </tr>\n",
       "    <tr>\n",
       "      <th>1</th>\n",
       "      <td>2016</td>\n",
       "      <td>8926</td>\n",
       "      <td>97</td>\n",
       "      <td>1.086713</td>\n",
       "    </tr>\n",
       "    <tr>\n",
       "      <th>2</th>\n",
       "      <td>2017</td>\n",
       "      <td>8467</td>\n",
       "      <td>114</td>\n",
       "      <td>1.346404</td>\n",
       "    </tr>\n",
       "    <tr>\n",
       "      <th>3</th>\n",
       "      <td>2018</td>\n",
       "      <td>7827</td>\n",
       "      <td>131</td>\n",
       "      <td>1.673694</td>\n",
       "    </tr>\n",
       "    <tr>\n",
       "      <th>4</th>\n",
       "      <td>2019</td>\n",
       "      <td>9112</td>\n",
       "      <td>156</td>\n",
       "      <td>1.712028</td>\n",
       "    </tr>\n",
       "    <tr>\n",
       "      <th>5</th>\n",
       "      <td>2020</td>\n",
       "      <td>10977</td>\n",
       "      <td>259</td>\n",
       "      <td>2.359479</td>\n",
       "    </tr>\n",
       "    <tr>\n",
       "      <th>6</th>\n",
       "      <td>2021</td>\n",
       "      <td>12073</td>\n",
       "      <td>303</td>\n",
       "      <td>2.509732</td>\n",
       "    </tr>\n",
       "    <tr>\n",
       "      <th>7</th>\n",
       "      <td>2022</td>\n",
       "      <td>10298</td>\n",
       "      <td>282</td>\n",
       "      <td>2.738396</td>\n",
       "    </tr>\n",
       "    <tr>\n",
       "      <th>8</th>\n",
       "      <td>2023</td>\n",
       "      <td>9787</td>\n",
       "      <td>316</td>\n",
       "      <td>3.228773</td>\n",
       "    </tr>\n",
       "  </tbody>\n",
       "</table>\n",
       "</div>"
      ],
      "text/plain": [
       "   Pub Year  isCtsa  isCtsaDHT  percentDhtPubs\n",
       "0      2015    9189        109        1.186201\n",
       "1      2016    8926         97        1.086713\n",
       "2      2017    8467        114        1.346404\n",
       "3      2018    7827        131        1.673694\n",
       "4      2019    9112        156        1.712028\n",
       "5      2020   10977        259        2.359479\n",
       "6      2021   12073        303        2.509732\n",
       "7      2022   10298        282        2.738396\n",
       "8      2023    9787        316        3.228773"
      ]
     },
     "execution_count": 41,
     "metadata": {},
     "output_type": "execute_result"
    }
   ],
   "source": [
    "pubsByYearCtsa"
   ]
  },
  {
   "cell_type": "code",
   "execution_count": 48,
   "id": "892d5cd9-c642-4158-984b-53e6806c9a0b",
   "metadata": {},
   "outputs": [
    {
     "name": "stdout",
     "output_type": "stream",
     "text": [
      "mean =  [196.33333333333334, 196.33333333333334, 196.33333333333334, 196.33333333333334, 196.33333333333334, 196.33333333333334, 196.33333333333334, 196.33333333333334, 196.33333333333334]  +/- 56.42588181208695\n",
      "0 1.1862008923713137\n",
      "1 1.0867129733363208\n",
      "2 1.3464036848942955\n",
      "3 1.6736936246326817\n",
      "4 1.7120280948200177\n",
      "5 2.3594789104491207\n",
      "6 2.509732460863083\n",
      "7 2.738395805010682\n",
      "8 3.2287728619597424\n"
     ]
    },
    {
     "data": {
      "image/png": "[encoded data removed]",
      "text/plain": [
       "<Figure size 1000x800 with 1 Axes>"
      ]
     },
     "metadata": {},
     "output_type": "display_data"
    }
   ],
   "source": [
    "#barplot of DHT pubs Per Year\n",
    "fig, ax = plt.subplots(1,1, figsize=(10, 8))\n",
    "\n",
    "valsPerc=pubsByYearCtsa['percentDhtPubs']\n",
    "vals=pubsByYearCtsa['isCtsaDHT']\n",
    "x=pubsByYearCtsa['Pub Year'].to_list()\n",
    "bar1 = plt.bar(x, vals, width = 0.4,color='darkblue')\n",
    "\n",
    "#barerr=2*pubsByYear['isPubDHT']['std'] #1.96*pubsByYear['isPubDHT']['std']/np.sqrt(pubsByYear['Appl ID']['count'])\n",
    "#plt.errorbar(x=x,y=vals,yerr=barerr, fmt ='o',color='darkblue')\n",
    " \n",
    "    \n",
    "plt.xlabel(\"Calendar Year\")\n",
    "plt.ylabel(\"DHT Publications from CTSAs, 2015-\"+ str(int(endyear)))\n",
    "\n",
    "#dashed line showing grand mean:\n",
    "grandmean=[np.mean(vals)]*len(vals)\n",
    "plt.plot(x, grandmean,color='k',linestyle='--')\n",
    "ci = 1.96 * np.std(vals)/np.sqrt(len(vals))\n",
    "plt.fill_between(x, (grandmean-ci), (grandmean+ci), color='k', alpha=.1)\n",
    "print('mean = ', grandmean, ' +/-', ci)\n",
    "\n",
    "plt.xticks(rotation=0)\n",
    "plt.xticks(x, x, rotation=0) #The first argument gives the locations to put the ticks (df.index here is equivalent to np.arange(len(df)), but if your index isn't evenly spaced use the arange). The second argument gives the tick labels.\n",
    "\n",
    "#text at top of each bar\n",
    "# Add counts above the two bar graphs\n",
    "for i, rect in enumerate(bar1):\n",
    "    ctext=valsPerc[i]\n",
    "    print(i,ctext)\n",
    "    plt.text(rect.get_x() + rect.get_width() / 2.0, rect.get_height(), f'{ctext:.1f}%', ha='center', va='bottom')\n",
    "\n",
    "\n",
    "plt.show()\n",
    "fig.figure.savefig(outpath + 'SuppFig3_mHealthPubsAllCTSA_Bar.tiff', dpi=600) #"
   ]
  },
  {
   "cell_type": "code",
   "execution_count": null,
   "id": "d3b8bee4-8413-4d69-9528-b64297a0de36",
   "metadata": {},
   "outputs": [],
   "source": []
  }
 ],
 "metadata": {
  "kernelspec": {
   "display_name": "Python 3 (ipykernel)",
   "language": "python",
   "name": "python3"
  },
  "language_info": {
   "codemirror_mode": {
    "name": "ipython",
    "version": 3
   },
   "file_extension": ".py",
   "mimetype": "text/x-python",
   "name": "python",
   "nbconvert_exporter": "python",
   "pygments_lexer": "ipython3",
   "version": "3.11.7"
  }
 },
 "nbformat": 4,
 "nbformat_minor": 5
}
